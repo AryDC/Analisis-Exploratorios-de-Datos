{
 "cells": [
  {
   "cell_type": "markdown",
   "id": "fdf888db",
   "metadata": {},
   "source": [
    "\n",
    "\n",
    "\n",
    "\n",
    "\n",
    "\n",
    "\n",
    "\n",
    "\n",
    "\n",
    "\n",
    "# Sabores de Cacao"
   ]
  },
  {
   "cell_type": "markdown",
   "id": "30cc97fa",
   "metadata": {},
   "source": [
    "El chocolate es uno de los dulces más populares del mundo. Cada año, los residentes de Estados Unidos consumen colectivamente más de 2.800 millones de libras. Sin embargo, no todas las barras de chocolate son iguales. Este conjunto de datos contiene valoraciones de expertos sobre más de 1.700 barras de chocolate, junto con información sobre su origen regional, el porcentaje de cacao, la variedad de grano de chocolate utilizado y el lugar de cultivo de los granos."
   ]
  },
  {
   "cell_type": "code",
   "execution_count": 1,
   "id": "684cedcc",
   "metadata": {},
   "outputs": [],
   "source": [
    "#importar el archivo csv. \n",
    "import pandas as pd\n",
    "df = pd.read_csv('https://raw.githubusercontent.com/lihkir/Uninorte/main/AppliedStatisticMS/DataVisualizationRPython/Lectures/Python/PythonDataSets/sabores_del_cacao.csv')"
   ]
  },
  {
   "cell_type": "code",
   "execution_count": 2,
   "id": "b67acc51",
   "metadata": {},
   "outputs": [
    {
     "data": {
      "text/html": [
       "<div>\n",
       "<style scoped>\n",
       "    .dataframe tbody tr th:only-of-type {\n",
       "        vertical-align: middle;\n",
       "    }\n",
       "\n",
       "    .dataframe tbody tr th {\n",
       "        vertical-align: top;\n",
       "    }\n",
       "\n",
       "    .dataframe thead th {\n",
       "        text-align: right;\n",
       "    }\n",
       "</style>\n",
       "<table border=\"1\" class=\"dataframe\">\n",
       "  <thead>\n",
       "    <tr style=\"text-align: right;\">\n",
       "      <th></th>\n",
       "      <th>Company \\n(Maker-if known)</th>\n",
       "      <th>Specific Bean Origin\\nor Bar Name</th>\n",
       "      <th>REF</th>\n",
       "      <th>Review\\nDate</th>\n",
       "      <th>Cocoa\\nPercent</th>\n",
       "      <th>Company\\nLocation</th>\n",
       "      <th>Rating</th>\n",
       "      <th>Bean\\nType</th>\n",
       "      <th>Broad Bean\\nOrigin</th>\n",
       "    </tr>\n",
       "  </thead>\n",
       "  <tbody>\n",
       "    <tr>\n",
       "      <th>0</th>\n",
       "      <td>A. Morin</td>\n",
       "      <td>Agua Grande</td>\n",
       "      <td>1876</td>\n",
       "      <td>2016</td>\n",
       "      <td>63%</td>\n",
       "      <td>France</td>\n",
       "      <td>3.75</td>\n",
       "      <td></td>\n",
       "      <td>Sao Tome</td>\n",
       "    </tr>\n",
       "    <tr>\n",
       "      <th>1</th>\n",
       "      <td>A. Morin</td>\n",
       "      <td>Kpime</td>\n",
       "      <td>1676</td>\n",
       "      <td>2015</td>\n",
       "      <td>70%</td>\n",
       "      <td>France</td>\n",
       "      <td>2.75</td>\n",
       "      <td></td>\n",
       "      <td>Togo</td>\n",
       "    </tr>\n",
       "    <tr>\n",
       "      <th>2</th>\n",
       "      <td>A. Morin</td>\n",
       "      <td>Atsane</td>\n",
       "      <td>1676</td>\n",
       "      <td>2015</td>\n",
       "      <td>70%</td>\n",
       "      <td>France</td>\n",
       "      <td>3.00</td>\n",
       "      <td></td>\n",
       "      <td>Togo</td>\n",
       "    </tr>\n",
       "    <tr>\n",
       "      <th>3</th>\n",
       "      <td>A. Morin</td>\n",
       "      <td>Akata</td>\n",
       "      <td>1680</td>\n",
       "      <td>2015</td>\n",
       "      <td>70%</td>\n",
       "      <td>France</td>\n",
       "      <td>3.50</td>\n",
       "      <td></td>\n",
       "      <td>Togo</td>\n",
       "    </tr>\n",
       "    <tr>\n",
       "      <th>4</th>\n",
       "      <td>A. Morin</td>\n",
       "      <td>Quilla</td>\n",
       "      <td>1704</td>\n",
       "      <td>2015</td>\n",
       "      <td>70%</td>\n",
       "      <td>France</td>\n",
       "      <td>3.50</td>\n",
       "      <td></td>\n",
       "      <td>Peru</td>\n",
       "    </tr>\n",
       "    <tr>\n",
       "      <th>5</th>\n",
       "      <td>A. Morin</td>\n",
       "      <td>Carenero</td>\n",
       "      <td>1315</td>\n",
       "      <td>2014</td>\n",
       "      <td>70%</td>\n",
       "      <td>France</td>\n",
       "      <td>2.75</td>\n",
       "      <td>Criollo</td>\n",
       "      <td>Venezuela</td>\n",
       "    </tr>\n",
       "    <tr>\n",
       "      <th>6</th>\n",
       "      <td>A. Morin</td>\n",
       "      <td>Cuba</td>\n",
       "      <td>1315</td>\n",
       "      <td>2014</td>\n",
       "      <td>70%</td>\n",
       "      <td>France</td>\n",
       "      <td>3.50</td>\n",
       "      <td></td>\n",
       "      <td>Cuba</td>\n",
       "    </tr>\n",
       "    <tr>\n",
       "      <th>7</th>\n",
       "      <td>A. Morin</td>\n",
       "      <td>Sur del Lago</td>\n",
       "      <td>1315</td>\n",
       "      <td>2014</td>\n",
       "      <td>70%</td>\n",
       "      <td>France</td>\n",
       "      <td>3.50</td>\n",
       "      <td>Criollo</td>\n",
       "      <td>Venezuela</td>\n",
       "    </tr>\n",
       "    <tr>\n",
       "      <th>8</th>\n",
       "      <td>A. Morin</td>\n",
       "      <td>Puerto Cabello</td>\n",
       "      <td>1319</td>\n",
       "      <td>2014</td>\n",
       "      <td>70%</td>\n",
       "      <td>France</td>\n",
       "      <td>3.75</td>\n",
       "      <td>Criollo</td>\n",
       "      <td>Venezuela</td>\n",
       "    </tr>\n",
       "    <tr>\n",
       "      <th>9</th>\n",
       "      <td>A. Morin</td>\n",
       "      <td>Pablino</td>\n",
       "      <td>1319</td>\n",
       "      <td>2014</td>\n",
       "      <td>70%</td>\n",
       "      <td>France</td>\n",
       "      <td>4.00</td>\n",
       "      <td></td>\n",
       "      <td>Peru</td>\n",
       "    </tr>\n",
       "  </tbody>\n",
       "</table>\n",
       "</div>"
      ],
      "text/plain": [
       "  Company \\n(Maker-if known) Specific Bean Origin\\nor Bar Name   REF  \\\n",
       "0                   A. Morin                       Agua Grande  1876   \n",
       "1                   A. Morin                             Kpime  1676   \n",
       "2                   A. Morin                            Atsane  1676   \n",
       "3                   A. Morin                             Akata  1680   \n",
       "4                   A. Morin                            Quilla  1704   \n",
       "5                   A. Morin                          Carenero  1315   \n",
       "6                   A. Morin                              Cuba  1315   \n",
       "7                   A. Morin                      Sur del Lago  1315   \n",
       "8                   A. Morin                    Puerto Cabello  1319   \n",
       "9                   A. Morin                           Pablino  1319   \n",
       "\n",
       "   Review\\nDate Cocoa\\nPercent Company\\nLocation  Rating Bean\\nType  \\\n",
       "0          2016            63%            France    3.75              \n",
       "1          2015            70%            France    2.75              \n",
       "2          2015            70%            France    3.00              \n",
       "3          2015            70%            France    3.50              \n",
       "4          2015            70%            France    3.50              \n",
       "5          2014            70%            France    2.75    Criollo   \n",
       "6          2014            70%            France    3.50              \n",
       "7          2014            70%            France    3.50    Criollo   \n",
       "8          2014            70%            France    3.75    Criollo   \n",
       "9          2014            70%            France    4.00              \n",
       "\n",
       "  Broad Bean\\nOrigin  \n",
       "0           Sao Tome  \n",
       "1               Togo  \n",
       "2               Togo  \n",
       "3               Togo  \n",
       "4               Peru  \n",
       "5          Venezuela  \n",
       "6               Cuba  \n",
       "7          Venezuela  \n",
       "8          Venezuela  \n",
       "9               Peru  "
      ]
     },
     "execution_count": 2,
     "metadata": {},
     "output_type": "execute_result"
    }
   ],
   "source": [
    "#lo primero es hacer un breve analisis general segun los tipos de datos y cantidad de datos que tenemos disponibles\n",
    "df.head(10)"
   ]
  },
  {
   "cell_type": "code",
   "execution_count": 3,
   "id": "b666e1c9-b4b3-4ebf-90fb-eaec0b448205",
   "metadata": {},
   "outputs": [
    {
     "data": {
      "text/plain": [
       "(1795, 9)"
      ]
     },
     "execution_count": 3,
     "metadata": {},
     "output_type": "execute_result"
    }
   ],
   "source": [
    "df.shape"
   ]
  },
  {
   "cell_type": "code",
   "execution_count": 20,
   "id": "4a875025",
   "metadata": {},
   "outputs": [
    {
     "data": {
      "text/plain": [
       "count    1795.000000\n",
       "mean     1035.904735\n",
       "std       552.886365\n",
       "min         5.000000\n",
       "25%       576.000000\n",
       "50%      1069.000000\n",
       "75%      1502.000000\n",
       "max      1952.000000\n",
       "Name: REF, dtype: float64"
      ]
     },
     "execution_count": 20,
     "metadata": {},
     "output_type": "execute_result"
    }
   ],
   "source": [
    "df['REF'].describe()#ver las dimensiones de nuestro DataFrame"
   ]
  },
  {
   "cell_type": "markdown",
   "id": "1f8b246d",
   "metadata": {},
   "source": [
    "asi de primeras vemos una variedad de tipos de variables, tenemos tanto cualitativas, cauntitativas discretas y continuas por lo cual la intencion principal es como se relacionan las variables mas importantes entre si, esto lo hacemos con graficas de dispercion, de barras y heatmap."
   ]
  },
  {
   "cell_type": "markdown",
   "id": "7632980c",
   "metadata": {},
   "source": [
    "quizas la variable que mas llama la atencion es el rating, ya que es nuestra forma de valorar el sabor de este, asi que analizaremos la relacion de los datos con esta misma. lo primero sera el porcentaje de cacao, ya que esta es uno de los datos que nos llama la atencion desde el enunciado inicial \"no todas las barras de chocolate son iguales.\", veamos como se relaciona este enunciado con el porcentaje de cacao."
   ]
  },
  {
   "cell_type": "code",
   "execution_count": 4,
   "id": "c1b5cc31",
   "metadata": {},
   "outputs": [],
   "source": [
    "#lo primero que hacemos es quitar ese '%' ya que python no lo lee como numero sino como letras.\n",
    "df['Cocoa\\nPercent'] = df['Cocoa\\nPercent'].str.replace('%','').astype('float')"
   ]
  },
  {
   "cell_type": "code",
   "execution_count": 5,
   "id": "d8ebe930",
   "metadata": {},
   "outputs": [
    {
     "data": {
      "text/html": [
       "<div>\n",
       "<style scoped>\n",
       "    .dataframe tbody tr th:only-of-type {\n",
       "        vertical-align: middle;\n",
       "    }\n",
       "\n",
       "    .dataframe tbody tr th {\n",
       "        vertical-align: top;\n",
       "    }\n",
       "\n",
       "    .dataframe thead th {\n",
       "        text-align: right;\n",
       "    }\n",
       "</style>\n",
       "<table border=\"1\" class=\"dataframe\">\n",
       "  <thead>\n",
       "    <tr style=\"text-align: right;\">\n",
       "      <th></th>\n",
       "      <th>Cocoa\\nPercent</th>\n",
       "      <th>Rating</th>\n",
       "    </tr>\n",
       "  </thead>\n",
       "  <tbody>\n",
       "    <tr>\n",
       "      <th>0</th>\n",
       "      <td>63.0</td>\n",
       "      <td>3.75</td>\n",
       "    </tr>\n",
       "    <tr>\n",
       "      <th>1</th>\n",
       "      <td>70.0</td>\n",
       "      <td>2.75</td>\n",
       "    </tr>\n",
       "    <tr>\n",
       "      <th>2</th>\n",
       "      <td>70.0</td>\n",
       "      <td>3.00</td>\n",
       "    </tr>\n",
       "    <tr>\n",
       "      <th>3</th>\n",
       "      <td>70.0</td>\n",
       "      <td>3.50</td>\n",
       "    </tr>\n",
       "    <tr>\n",
       "      <th>4</th>\n",
       "      <td>70.0</td>\n",
       "      <td>3.50</td>\n",
       "    </tr>\n",
       "    <tr>\n",
       "      <th>...</th>\n",
       "      <td>...</td>\n",
       "      <td>...</td>\n",
       "    </tr>\n",
       "    <tr>\n",
       "      <th>1790</th>\n",
       "      <td>70.0</td>\n",
       "      <td>3.75</td>\n",
       "    </tr>\n",
       "    <tr>\n",
       "      <th>1791</th>\n",
       "      <td>65.0</td>\n",
       "      <td>3.00</td>\n",
       "    </tr>\n",
       "    <tr>\n",
       "      <th>1792</th>\n",
       "      <td>65.0</td>\n",
       "      <td>3.50</td>\n",
       "    </tr>\n",
       "    <tr>\n",
       "      <th>1793</th>\n",
       "      <td>62.0</td>\n",
       "      <td>3.25</td>\n",
       "    </tr>\n",
       "    <tr>\n",
       "      <th>1794</th>\n",
       "      <td>65.0</td>\n",
       "      <td>3.00</td>\n",
       "    </tr>\n",
       "  </tbody>\n",
       "</table>\n",
       "<p>1795 rows × 2 columns</p>\n",
       "</div>"
      ],
      "text/plain": [
       "      Cocoa\\nPercent  Rating\n",
       "0               63.0    3.75\n",
       "1               70.0    2.75\n",
       "2               70.0    3.00\n",
       "3               70.0    3.50\n",
       "4               70.0    3.50\n",
       "...              ...     ...\n",
       "1790            70.0    3.75\n",
       "1791            65.0    3.00\n",
       "1792            65.0    3.50\n",
       "1793            62.0    3.25\n",
       "1794            65.0    3.00\n",
       "\n",
       "[1795 rows x 2 columns]"
      ]
     },
     "execution_count": 5,
     "metadata": {},
     "output_type": "execute_result"
    }
   ],
   "source": [
    "#ahora que lo quitamos usamos el metodo '.corr()' para ver la correlacion entre 'porcentaje de cacao' y 'Rating'\n",
    "\n",
    "pcacao_Rating= pd.concat([df['Cocoa\\nPercent'],df['Rating']], axis=1)\n",
    "#el metodo concat lo usamos para unir las 2 variables en un dataframe, y el axis=1 para ordenarlas a lo largo de el eje vertical\n",
    "\n",
    "pcacao_Rating"
   ]
  },
  {
   "cell_type": "code",
   "execution_count": 6,
   "id": "b2ccacf8",
   "metadata": {},
   "outputs": [],
   "source": [
    "#para empezar a graficas importamos las librerias.\n",
    "import scipy as sp#libreria para analisis numericos\n",
    "import matplotlib.pyplot as plt#libreria para generar graficas\n",
    "import seaborn as sns#es como plt pero las graficas son mas bonitas:)\n",
    "from scipy.stats import norm\n",
    "from scipy import stats\n",
    "import warnings\n",
    "import numpy as np#libreria para operaciones numericas\n",
    "%matplotlib inline"
   ]
  },
  {
   "cell_type": "code",
   "execution_count": 7,
   "id": "92aa901c",
   "metadata": {
    "scrolled": true
   },
   "outputs": [
    {
     "data": {
      "text/plain": [
       "<AxesSubplot:>"
      ]
     },
     "execution_count": 7,
     "metadata": {},
     "output_type": "execute_result"
    },
    {
     "data": {
      "image/png": "[encoded data removed]",
      "text/plain": [
       "<Figure size 432x432 with 2 Axes>"
      ]
     },
     "metadata": {
      "needs_background": "light"
     },
     "output_type": "display_data"
    }
   ],
   "source": [
    "corrp = pcacao_Rating.corr()#correlacionar variables numericas\n",
    "f, ax = plt.subplots(figsize=(6,6))#dimensiones de la grafica\n",
    "sns.heatmap(corrp, vmax=.9, square =True)#grafica de calor para ver la correlacion de datos"
   ]
  },
  {
   "cell_type": "code",
   "execution_count": 8,
   "id": "eaf1f0d1",
   "metadata": {
    "scrolled": true
   },
   "outputs": [
    {
     "data": {
      "text/plain": [
       "(array([ 0,  1,  2,  3,  4,  5,  6,  7,  8,  9, 10, 11, 12, 13, 14, 15, 16,\n",
       "        17, 18, 19, 20, 21, 22, 23, 24, 25, 26, 27, 28, 29, 30, 31, 32, 33,\n",
       "        34, 35, 36, 37, 38, 39, 40, 41, 42, 43, 44]),\n",
       " [Text(0, 0, '42.0'),\n",
       "  Text(1, 0, '46.0'),\n",
       "  Text(2, 0, '50.0'),\n",
       "  Text(3, 0, '53.0'),\n",
       "  Text(4, 0, '55.0'),\n",
       "  Text(5, 0, '56.0'),\n",
       "  Text(6, 0, '57.0'),\n",
       "  Text(7, 0, '58.0'),\n",
       "  Text(8, 0, '60.0'),\n",
       "  Text(9, 0, '60.5'),\n",
       "  Text(10, 0, '61.0'),\n",
       "  Text(11, 0, '62.0'),\n",
       "  Text(12, 0, '63.0'),\n",
       "  Text(13, 0, '64.0'),\n",
       "  Text(14, 0, '65.0'),\n",
       "  Text(15, 0, '66.0'),\n",
       "  Text(16, 0, '67.0'),\n",
       "  Text(17, 0, '68.0'),\n",
       "  Text(18, 0, '69.0'),\n",
       "  Text(19, 0, '70.0'),\n",
       "  Text(20, 0, '71.0'),\n",
       "  Text(21, 0, '72.0'),\n",
       "  Text(22, 0, '72.5'),\n",
       "  Text(23, 0, '73.0'),\n",
       "  Text(24, 0, '73.5'),\n",
       "  Text(25, 0, '74.0'),\n",
       "  Text(26, 0, '75.0'),\n",
       "  Text(27, 0, '76.0'),\n",
       "  Text(28, 0, '77.0'),\n",
       "  Text(29, 0, '78.0'),\n",
       "  Text(30, 0, '79.0'),\n",
       "  Text(31, 0, '80.0'),\n",
       "  Text(32, 0, '81.0'),\n",
       "  Text(33, 0, '82.0'),\n",
       "  Text(34, 0, '83.0'),\n",
       "  Text(35, 0, '84.0'),\n",
       "  Text(36, 0, '85.0'),\n",
       "  Text(37, 0, '86.0'),\n",
       "  Text(38, 0, '87.0'),\n",
       "  Text(39, 0, '88.0'),\n",
       "  Text(40, 0, '89.0'),\n",
       "  Text(41, 0, '90.0'),\n",
       "  Text(42, 0, '91.0'),\n",
       "  Text(43, 0, '99.0'),\n",
       "  Text(44, 0, '100.0')])"
      ]
     },
     "execution_count": 8,
     "metadata": {},
     "output_type": "execute_result"
    },
    {
     "data": {
      "image/png": "[encoded data removed]",
      "text/plain": [
       "<Figure size 864x432 with 1 Axes>"
      ]
     },
     "metadata": {
      "needs_background": "light"
     },
     "output_type": "display_data"
    }
   ],
   "source": [
    "#aqui vemos que el % de caceo no influye directamente en el Rating, y esto queda mas claro aun si lo graficamos\n",
    "\n",
    "f,ax = plt.subplots(figsize=(12,6))#dimension de la grafica\n",
    "fig = sns.boxplot(x='Cocoa\\nPercent', y='Rating', data=pcacao_Rating)#utilizo seaborn para hacer una grafica de cajas y bigotes\n",
    "fig.axis(ymin=1.0,ymax=5.0)\n",
    "plt.xticks(rotation=90)#uso plt para rotar los elementos de el eje x para que no se amontonen y se puedan leer sin problema"
   ]
  },
  {
   "cell_type": "markdown",
   "id": "3bf98585",
   "metadata": {},
   "source": [
    "# Clonclusion de 'Cocoa\\nPercent'/Rating"
   ]
  },
  {
   "cell_type": "markdown",
   "id": "e84ec6c2",
   "metadata": {},
   "source": [
    "Como vemos en el heatmap y la boxplot no hay una relacion directa entre el porcentaje de cacao y el Rating, esto se ve mas claro en la boxplot, aqui se ve que a lo largo de la grafica esta apenas varia."
   ]
  },
  {
   "cell_type": "markdown",
   "id": "f0091144",
   "metadata": {},
   "source": [
    "# Company\\nLocation\t/ Rating"
   ]
  },
  {
   "cell_type": "markdown",
   "id": "05dcae43",
   "metadata": {},
   "source": [
    "ahora veremos en que pais se producen mas chocolate y la relacion que tiene la localizacion de estas compañias con el Rating para ver en que paises las compañias producen Mejor chocolate (segun la variable Rating)"
   ]
  },
  {
   "cell_type": "code",
   "execution_count": 9,
   "id": "41c9ad4a",
   "metadata": {},
   "outputs": [
    {
     "data": {
      "text/html": [
       "<div>\n",
       "<style scoped>\n",
       "    .dataframe tbody tr th:only-of-type {\n",
       "        vertical-align: middle;\n",
       "    }\n",
       "\n",
       "    .dataframe tbody tr th {\n",
       "        vertical-align: top;\n",
       "    }\n",
       "\n",
       "    .dataframe thead th {\n",
       "        text-align: right;\n",
       "    }\n",
       "</style>\n",
       "<table border=\"1\" class=\"dataframe\">\n",
       "  <thead>\n",
       "    <tr style=\"text-align: right;\">\n",
       "      <th></th>\n",
       "      <th>Company Location</th>\n",
       "      <th>Frecuency</th>\n",
       "    </tr>\n",
       "  </thead>\n",
       "  <tbody>\n",
       "    <tr>\n",
       "      <th>0</th>\n",
       "      <td>U.S.A.</td>\n",
       "      <td>764</td>\n",
       "    </tr>\n",
       "    <tr>\n",
       "      <th>1</th>\n",
       "      <td>France</td>\n",
       "      <td>156</td>\n",
       "    </tr>\n",
       "    <tr>\n",
       "      <th>2</th>\n",
       "      <td>Canada</td>\n",
       "      <td>125</td>\n",
       "    </tr>\n",
       "    <tr>\n",
       "      <th>3</th>\n",
       "      <td>U.K.</td>\n",
       "      <td>96</td>\n",
       "    </tr>\n",
       "    <tr>\n",
       "      <th>4</th>\n",
       "      <td>Italy</td>\n",
       "      <td>63</td>\n",
       "    </tr>\n",
       "  </tbody>\n",
       "</table>\n",
       "</div>"
      ],
      "text/plain": [
       "  Company Location  Frecuency\n",
       "0           U.S.A.        764\n",
       "1           France        156\n",
       "2           Canada        125\n",
       "3             U.K.         96\n",
       "4            Italy         63"
      ]
     },
     "execution_count": 9,
     "metadata": {},
     "output_type": "execute_result"
    }
   ],
   "source": [
    "companyL = df['Company\\nLocation'].value_counts()#hacer un conteo de los varoles en Company/location\n",
    "companyL = pd.DataFrame(companyL)#crear un DataFrame con la informacion de el Value_counts()\n",
    "companyL.reset_index(inplace=True)#resetar el indice y que el DF quede ordenado\n",
    "companyL.columns=('Company Location','Frecuency')#nombrar las columnas\n",
    "top5company = companyL.head(5)#mostrar primeros 5 datos\n",
    "top5company"
   ]
  },
  {
   "cell_type": "code",
   "execution_count": 10,
   "id": "228ae937",
   "metadata": {},
   "outputs": [
    {
     "data": {
      "text/plain": [
       "<AxesSubplot:xlabel='Company Location', ylabel='Frecuency'>"
      ]
     },
     "execution_count": 10,
     "metadata": {},
     "output_type": "execute_result"
    },
    {
     "data": {
      "image/png": "[encoded data removed]",
      "text/plain": [
       "<Figure size 432x288 with 1 Axes>"
      ]
     },
     "metadata": {
      "needs_background": "light"
     },
     "output_type": "display_data"
    }
   ],
   "source": [
    "sns.barplot(x='Company Location', y='Frecuency', data = top5company)"
   ]
  },
  {
   "cell_type": "markdown",
   "id": "6d96d2c4",
   "metadata": {},
   "source": [
    "aqui vemos que la mayor produccion por ubicacion de las compañias esta en U.S.A con mucha diferencia... pero y si quisieramos saber donde estan las compañias que hacen los mejores chocolates?"
   ]
  },
  {
   "cell_type": "code",
   "execution_count": 11,
   "id": "707f7664",
   "metadata": {},
   "outputs": [
    {
     "data": {
      "text/html": [
       "<div>\n",
       "<style scoped>\n",
       "    .dataframe tbody tr th:only-of-type {\n",
       "        vertical-align: middle;\n",
       "    }\n",
       "\n",
       "    .dataframe tbody tr th {\n",
       "        vertical-align: top;\n",
       "    }\n",
       "\n",
       "    .dataframe thead th {\n",
       "        text-align: right;\n",
       "    }\n",
       "</style>\n",
       "<table border=\"1\" class=\"dataframe\">\n",
       "  <thead>\n",
       "    <tr style=\"text-align: right;\">\n",
       "      <th></th>\n",
       "      <th>Company\\nLocation</th>\n",
       "      <th>Rating</th>\n",
       "    </tr>\n",
       "  </thead>\n",
       "  <tbody>\n",
       "    <tr>\n",
       "      <th>0</th>\n",
       "      <td>Chile</td>\n",
       "      <td>3.750000</td>\n",
       "    </tr>\n",
       "    <tr>\n",
       "      <th>1</th>\n",
       "      <td>Amsterdam</td>\n",
       "      <td>3.500000</td>\n",
       "    </tr>\n",
       "    <tr>\n",
       "      <th>2</th>\n",
       "      <td>Netherlands</td>\n",
       "      <td>3.500000</td>\n",
       "    </tr>\n",
       "    <tr>\n",
       "      <th>3</th>\n",
       "      <td>Philippines</td>\n",
       "      <td>3.500000</td>\n",
       "    </tr>\n",
       "    <tr>\n",
       "      <th>4</th>\n",
       "      <td>Iceland</td>\n",
       "      <td>3.416667</td>\n",
       "    </tr>\n",
       "  </tbody>\n",
       "</table>\n",
       "</div>"
      ],
      "text/plain": [
       "  Company\\nLocation    Rating\n",
       "0             Chile  3.750000\n",
       "1         Amsterdam  3.500000\n",
       "2       Netherlands  3.500000\n",
       "3       Philippines  3.500000\n",
       "4           Iceland  3.416667"
      ]
     },
     "execution_count": 11,
     "metadata": {},
     "output_type": "execute_result"
    }
   ],
   "source": [
    "#miraremos la relacion entre Compnay location y Rating para ver en que pais estan las mejores compañias a nivel de calidad segun la variable Rating\n",
    "CL_R= df.groupby('Company\\nLocation').aggregate({'Rating':'mean'})#agrupamos los datos de Company/location con el promedio de Rating\n",
    "CL_R = CL_R.sort_values('Rating', ascending=False).head(20)#sort values=ascending es para colocarlos acendendentes y usamos el False para colocarlos descendentes\n",
    "CL_R = CL_R.reset_index()#con esto reseteamos el indice\n",
    "CL_R.head(5)"
   ]
  },
  {
   "cell_type": "code",
   "execution_count": 12,
   "id": "981482a8",
   "metadata": {
    "scrolled": true
   },
   "outputs": [
    {
     "data": {
      "image/png": "[encoded data removed]",
      "text/plain": [
       "<Figure size 720x288 with 1 Axes>"
      ]
     },
     "metadata": {},
     "output_type": "display_data"
    }
   ],
   "source": [
    "#ahora grafiquemos usando seaborn para que analizar mejor esta relacion de variables\n",
    "sns.set()\n",
    "plt.figure(figsize=(10,4))#dimensiones de la grafica\n",
    "sns.barplot(x='Company\\nLocation', y='Rating', data=CL_R)#usamos seaborn para hacer graficos de barra\n",
    "fig.axis(ymin=1.0,ymax=5.0)#limites minimo y maximos de rating en el eje y\n",
    "plt.xlabel(\"Company\\nLocation\")#cambiar titulo de x\n",
    "plt.ylabel(\"Average Rating\")#cambiar titulo de y\n",
    "plt.title(\"mayor promedio de Rating de segun pais de la compañia\")#cambiar titulo de la grafica\n",
    "plt.xticks(rotation=90)#rotar 90° para visualizar los elementos de el eje x sin que se amontonen\n",
    "plt.show()#mostrar la grafica\n",
    "\n"
   ]
  },
  {
   "cell_type": "markdown",
   "id": "19be40f7",
   "metadata": {},
   "source": [
    "# Conclusion de Company/Location y Rating"
   ]
  },
  {
   "cell_type": "markdown",
   "id": "3f3b8686",
   "metadata": {},
   "source": [
    "en estas graficas podemos concluir que U.S.A es uno de los mayores productores de chocolate en cantidad... no esta ni en el Top 20 de Calidad, como la ley de la vidad Cantidad ≠ Calidad.\n",
    "\n",
    "tenemos tambien el otro lado de la moneda, chile y paises bajos no estan entre los paises mas productores pero el Rating tiene el promedio mas alto priorizando la calidad por encima de la cantidad."
   ]
  },
  {
   "cell_type": "markdown",
   "id": "3d4a48dc",
   "metadata": {},
   "source": [
    "# Broad Bean Origin/Rating"
   ]
  },
  {
   "cell_type": "markdown",
   "id": "688a3cbe",
   "metadata": {},
   "source": [
    "ahora haremos algo muy parecido al de la ubicacion de la compañia pero esta vez lo haremos con La región geográfica de origen del grano y ver como se relaciona con el Rating "
   ]
  },
  {
   "cell_type": "code",
   "execution_count": 17,
   "id": "0825388d",
   "metadata": {},
   "outputs": [
    {
     "data": {
      "image/png": "[encoded data removed]",
      "text/plain": [
       "<Figure size 720x288 with 1 Axes>"
      ]
     },
     "metadata": {},
     "output_type": "display_data"
    }
   ],
   "source": [
    "BeanO_R = df.groupby('Broad Bean\\nOrigin').aggregate({'Rating':'mean'})#aqui agrupamos las variables de 'Broad bean origin' con el promedio de 'Rating'\n",
    "BeanO_R = BeanO_R.sort_values('Rating', ascending=False).head(15)#usamos metodo sort_values y ascending para ordenar de menor a mayor y False para imvertirlo a descendiente\n",
    "BeanO_R = BeanO_R.reset_index()#resetear el indice\n",
    "sns.set()\n",
    "plt.figure(figsize=(10,4))#dimensiones de la Grafica\n",
    "sns.barplot(x='Broad Bean\\nOrigin', y='Rating', data=BeanO_R)#usamos seaborn para graficar con diagrama de barras con la data de BeamO_R\n",
    "plt.xlabel(\"Broad Bean\\nOrigin\")#cambiar titulo de x\n",
    "plt.ylabel(\"Average Rating\")#cambiar titulo de Y\n",
    "plt.title(\"mayor promedio de Rating segun origen de el cacao\")#cambiar el titulo de el Diagrama \n",
    "plt.xticks(rotation=90)#Rotar a 90° elementos de x para que no se amontonen\n",
    "plt.show()#mostrar la Grafica"
   ]
  },
  {
   "cell_type": "markdown",
   "id": "74315361",
   "metadata": {},
   "source": [
    "# Conclusion de Broad Bean Origin/Rating."
   ]
  },
  {
   "cell_type": "markdown",
   "id": "619f439f",
   "metadata": {},
   "source": [
    "aqui podemos ver que no hay un lugar de Origen dominante, de hecho tenemos muchisimos. por lo cual podriamos considerar que no es una variable de el todo confiable para hacer una conclusion definitiva por lo inconclusa que es "
   ]
  },
  {
   "cell_type": "markdown",
   "id": "b7325064",
   "metadata": {},
   "source": [
    "# Specific Bean Origin\\nor Bar Name y Rating"
   ]
  },
  {
   "cell_type": "markdown",
   "id": "e2ad23be",
   "metadata": {},
   "source": [
    "ahora analizaremos el origen especifico de el chocolate, sea Region Geografica o nombre de el Bar y ver cuales tienen mejor calidad segun la variable Rating"
   ]
  },
  {
   "cell_type": "code",
   "execution_count": 18,
   "id": "b24383ae",
   "metadata": {},
   "outputs": [
    {
     "data": {
      "image/png": "[encoded data removed]",
      "text/plain": [
       "<Figure size 720x288 with 1 Axes>"
      ]
     },
     "metadata": {},
     "output_type": "display_data"
    }
   ],
   "source": [
    "RegionObar_R = df.groupby('Specific Bean Origin\\nor Bar Name').aggregate({'Rating':'mean'})\n",
    "RegionObar_R = RegionObar_R.sort_values('Rating', ascending=False).head(15)\n",
    "RegionObar_R = RegionObar_R.reset_index()\n",
    "sns.set()\n",
    "plt.figure(figsize=(10,4))\n",
    "sns.barplot(x='Specific Bean Origin\\nor Bar Name', y='Rating', data=RegionObar_R)\n",
    "plt.xlabel(\"Specific Bean Origin\\nor Bar Name\")\n",
    "plt.ylabel(\"Average Rating\")\n",
    "plt.title(\"coorelacion entre rating y origen espefico/bar\")\n",
    "plt.xticks(rotation=90)\n",
    "plt.show()\n"
   ]
  },
  {
   "cell_type": "markdown",
   "id": "b4e9d908",
   "metadata": {},
   "source": [
    "# Conclusion de 'Specific Bean Origin\\nor Bar Name y Rating'"
   ]
  },
  {
   "cell_type": "markdown",
   "id": "a574c2d0",
   "metadata": {},
   "source": [
    "aqui vemos un claro dominante con un espectacular 4.5, este es el Bar toscano Black. seguido de este tenemos 2 regiones Geograficas que son Porcelana y Zulia con promedio llamativo de 4.0"
   ]
  },
  {
   "cell_type": "markdown",
   "id": "b5c36433",
   "metadata": {},
   "source": [
    "# COMENTARIOS\n"
   ]
  },
  {
   "cell_type": "markdown",
   "id": "10b40299",
   "metadata": {},
   "source": [
    "-como primer analisis concluimos que el porcentaje cacao no estaba directamente relacionado con el Rating de los chocolates, esto por la poca dispersion de los Datos.\n",
    "\n",
    "-Calidad vs Cantidad, el siguiente analisis nos pone en una situacion muy interesante, paises como estados unidos que tienen una produccion de chocolates en masa pero que su calidad no esta entre las  mejores, y paises como chile que no son de los mas productores y tienen una calidad bastante buena.\n",
    "\n",
    "-posteriormente tenemos una cantidad de relaciones bastante interesante sobre los origenes de las barras donde a nvel de paises tenemos muchos paises con un promedio de rating bastante alto como Venezuela, Republica dominicana o Madagascar...Etc por otro lado tenemos en los origenes mucho mas especificos con un rendimiento espectacular de 4.5 como Toscano Black o regiones geograficas como Zulia con un destacado 4.0"
   ]
  }
 ],
 "metadata": {
  "kernelspec": {
   "display_name": "Python 3 (ipykernel)",
   "language": "python",
   "name": "python3"
  },
  "language_info": {
   "codemirror_mode": {
    "name": "ipython",
    "version": 3
   },
   "file_extension": ".py",
   "mimetype": "text/x-python",
   "name": "python",
   "nbconvert_exporter": "python",
   "pygments_lexer": "ipython3",
   "version": "3.9.12"
  }
 },
 "nbformat": 4,
 "nbformat_minor": 5
}
